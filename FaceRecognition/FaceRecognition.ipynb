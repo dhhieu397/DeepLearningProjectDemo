{
 "cells": [
  {
   "cell_type": "code",
   "execution_count": 1,
   "id": "7970b137",
   "metadata": {},
   "outputs": [],
   "source": [
    "import cv2\n",
    "import numpy as np\n",
    "import face_recognition"
   ]
  },
  {
   "cell_type": "code",
   "execution_count": 2,
   "id": "0fadd961",
   "metadata": {},
   "outputs": [],
   "source": [
    "imgElon = face_recognition.load_image_file('ImagesBasic/Elon Musk.jpg')\n",
    "# convert to RBG image\n",
    "imgElon = cv2.cvtColor(imgElon, cv2.COLOR_BGR2RGB)\n",
    "\n",
    "imgTest = face_recognition.load_image_file('ImagesBasic/Elon Test.jpg')\n",
    "# convert to RBG image\n",
    "imgTest = cv2.cvtColor(imgTest, cv2.COLOR_BGR2RGB)\n",
    "#finding the face in the image/ find the encoding\n",
    "#single immge, get the first element of that\n",
    "faceLoc = face_recognition.face_locations(imgElon)[0]\n",
    "#encode\n",
    "encodeElon = face_recognition.face_encodings(imgElon)[0]\n",
    "cv2.rectangle(imgElon,(faceLoc[3],faceLoc[0]),(faceLoc[1],faceLoc[2]),(255,0,255), 2)\n",
    "\n",
    "faceLocTest = face_recognition.face_locations(imgTest)[0]\n",
    "#encode\n",
    "encodeTest = face_recognition.face_encodings(imgTest)[0]\n",
    "cv2.rectangle(imgTest,(faceLocTest[3],faceLocTest[0]),(faceLocTest[1],faceLocTest[2]),(255,0,255),2)\n",
    "\n",
    "#Step3: compare the faces and finding the distance between them.\n",
    "results = face_recognition.compare_faces([encodeElon],encodeTest)\n",
    "faceDis = face_recognition.face_distance([encodeElon],encodeTest)\n",
    "#print(results, faceDis)\n",
    "cv2.putText(imgTest,f'{results}{round(faceDis[0],2)}',(50,50),cv2.FONT_HERSHEY_COMPLEX,1,(0,0,255),2)\n",
    "cv2.imshow('Elon',imgElon)\n",
    "cv2.imshow('Elon Test',imgTest)\n",
    "cv2.waitKey(0)\n",
    "\n",
    "#top right bottom left\n",
    "# print(faceLoc)"
   ]
  }
 ],
 "metadata": {
  "kernelspec": {
   "display_name": "Python 3",
   "language": "python",
   "name": "python3"
  },
  "language_info": {
   "codemirror_mode": {
    "name": "ipython",
    "version": 3
   },
   "file_extension": ".py",
   "mimetype": "text/x-python",
   "name": "python",
   "nbconvert_exporter": "python",
   "pygments_lexer": "ipython3",
   "version": "3.6.13"
  }
 },
 "nbformat": 4,
 "nbformat_minor": 5
}
